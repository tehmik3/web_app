{
  "nbformat": 4,
  "nbformat_minor": 0,
  "metadata": {
    "colab": {
      "private_outputs": true,
      "provenance": [],
      "authorship_tag": "ABX9TyNIqkYof6C37wyobSzUPf8t",
      "include_colab_link": true
    },
    "kernelspec": {
      "name": "python3",
      "display_name": "Python 3"
    },
    "language_info": {
      "name": "python"
    }
  },
  "cells": [
    {
      "cell_type": "markdown",
      "metadata": {
        "id": "view-in-github",
        "colab_type": "text"
      },
      "source": [
        "<a href=\"https://colab.research.google.com/github/tehmik3/web_app/blob/main/web1.ipynb\" target=\"_parent\"><img src=\"https://colab.research.google.com/assets/colab-badge.svg\" alt=\"Open In Colab\"/></a>"
      ]
    },
    {
      "cell_type": "markdown",
      "source": [
        "# ***website***"
      ],
      "metadata": {
        "id": "0asF3dbkyjCn"
      }
    },
    {
      "cell_type": "code",
      "execution_count": null,
      "metadata": {
        "id": "slCFxuRkyQup"
      },
      "outputs": [],
      "source": [
        "import streamlit as st\n",
        "import pandas as pd\n",
        "import matplotlib.pyplot as plt\n",
        "\n",
        "st.title('Simple Data Dashboard')\n",
        "\n",
        "uploaded_file = st.file_uploader(\"Choose a CSV file\", type=\"csv\")\n",
        "\n",
        "if uploaded_file is not None:\n",
        "    df = pd.read_csv(uploaded_file)\n",
        "\n",
        "    st.subheader(\"Data Preview\")\n",
        "    st.write(df.head())\n",
        "\n",
        "    st.subheader(\"Data Summary\")\n",
        "    st.write(df.describe())\n",
        "\n",
        "    st.subheader(\"Filter Data\")\n",
        "    columns = df.columns.tolist()\n",
        "    selected_columns = st.selectbox(\"Select column to filter by\", columns)\n",
        "    unique_value = df[selected_columns].unique()\n",
        "    selected_values = st.selectbox(\"Select value\", unique_value)\n",
        "\n",
        "    filtered_df = df[df[selected_columns] == selected_values]\n",
        "    st.write(filtered_df)\n",
        "\n",
        "    st.subheader(\"Plot Data\")\n",
        "    x_column = st.selectbox(\"Select x-axis column\", columns)\n",
        "    y_column = st.selectbox(\"Select y-axis column\", columns)\n",
        "\n",
        "    if st.button(\"Generate Plot\"):\n",
        "        st.line_chart(filtered_df.set_index(x_column)[y_column])\n",
        "else:\n",
        "    st.write(\"waiting on file upload...\")\n",
        "\n"
      ]
    }
  ]
}